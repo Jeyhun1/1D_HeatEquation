{
 "cells": [
  {
   "cell_type": "markdown",
   "metadata": {},
   "source": [
    "# Implementing an Physics-informed neural network for the 1D Heat equation using the PINN framework"
   ]
  },
  {
   "cell_type": "code",
   "execution_count": null,
   "metadata": {},
   "outputs": [],
   "source": [
    "import sys\n",
    "import numpy as np\n",
    "import scipy.io\n",
    "import torch\n",
    "from pyDOE import lhs\n",
    "from torch import Tensor, ones, stack, load\n",
    "from torch.autograd import grad\n",
    "from torch.utils.data import Dataset\n",
    "import matplotlib.pyplot as plt\n",
    "import matplotlib.gridspec as gridspec"
   ]
  },
  {
   "cell_type": "markdown",
   "metadata": {},
   "source": [
    "### Underlying PDE\n",
    "\n",
    "**PDE:** $ u_{t}-k u_{x x}=0 $ &emsp; $ 0 < x < 1 $\n",
    "\n",
    "**IC:** $ u (x, 0) = f (x) $ &emsp; $ 0 < x < 1 $\n",
    "\n",
    "**BC:** $ u (0,t) = u (1,t) = 0 $   &emsp; $ 0 < t < 1 $\n",
    "\n",
    "$f:= u_{t}-k u_{x x} $  \n",
    "\n"
   ]
  },
  {
   "cell_type": "code",
   "execution_count": null,
   "metadata": {},
   "outputs": [],
   "source": [
    "sys.path.append('...')  # PINNFramework etc.\n",
    "import PINNFramework as pf"
   ]
  },
  {
   "cell_type": "code",
   "execution_count": null,
   "metadata": {},
   "outputs": [],
   "source": [
    "#data\n",
    "np.random.seed(0)\n",
    "x = np.random.uniform(low = 0, high = 1, size = 256) \n",
    "t = np.sort(np.random.uniform(low = 0, high = 1, size = 201))\n",
    "x = x.flatten()[:, None]\n",
    "t = t.flatten()[:, None]\n",
    "\n",
    "u = np.random.rand(x.shape[0],t.shape[0])"
   ]
  },
  {
   "cell_type": "code",
   "execution_count": null,
   "metadata": {},
   "outputs": [],
   "source": [
    "class BoundaryConditionDataset(Dataset):\n",
    "\n",
    "    def __init__(self, nb, lb, ub, t):\n",
    "        \"\"\"\n",
    "        Constructor of the initial condition dataset\n",
    "\n",
    "        Args:\n",
    "          n0 (int)\n",
    "        \"\"\"\n",
    "        super(type(self)).__init__()\n",
    "\n",
    "        idx_t = np.random.choice(t.shape[0], nb, replace=False)\n",
    "        tb = t[idx_t, :]\n",
    "        self.x_lb = np.concatenate((0 * tb + lb[0], tb), 1)  # (lb[0], tb)\n",
    "        self.x_ub = np.concatenate((0 * tb + ub[0], tb), 1)  # (ub[0], tb)\n",
    "\n",
    "    def __getitem__(self, idx):\n",
    "        \"\"\"\n",
    "        Returns data for initial state\n",
    "        \"\"\"\n",
    "        return Tensor(self.x_lb).float(), Tensor(self.x_ub).float()\n",
    "\n",
    "    def __len__(self):\n",
    "        \"\"\"\n",
    "        There exists no batch processing. So the size is 1\n",
    "        \"\"\"\n",
    "        return 1"
   ]
  },
  {
   "cell_type": "code",
   "execution_count": null,
   "metadata": {},
   "outputs": [],
   "source": [
    "class InitialConditionDataset(Dataset):\n",
    "\n",
    "    def __init__(self, n0, x, t, u):\n",
    "        \"\"\"\n",
    "        Constructor of the boundary condition dataset\n",
    "\n",
    "        Args:\n",
    "          n0 (int)\n",
    "        \"\"\"\n",
    "        super(type(self)).__init__()\n",
    "        \n",
    "        Exact_u = u\n",
    "\n",
    "        idx_x = np.random.choice(x.shape[0], n0, replace=False)\n",
    "        self.x = x[idx_x, :]\n",
    "        self.u = Exact_u[idx_x, 0:1]\n",
    "        self.t = np.zeros(self.x.shape)\n",
    "\n",
    "\n",
    "    def __len__(self):\n",
    "        \"\"\"\n",
    "        There exists no batch processing. So the size is 1\n",
    "        \"\"\"\n",
    "        return 1\n",
    "\n",
    "    def __getitem__(self, idx):\n",
    "        x = np.concatenate([self.x, self.t], axis=1)\n",
    "        y = self.u\n",
    "        return Tensor(x).float(), Tensor(y)"
   ]
  },
  {
   "cell_type": "code",
   "execution_count": null,
   "metadata": {},
   "outputs": [],
   "source": [
    "class PDEDataset(Dataset):\n",
    "    def __init__(self, nf, lb, ub):\n",
    "        self.xf = lb + (ub - lb) * lhs(2, nf)\n",
    "\n",
    "    def __getitem__(self, idx):\n",
    "        \"\"\"\n",
    "        Returns data for initial state\n",
    "        \"\"\"\n",
    "        return Tensor(self.xf).float()\n",
    "\n",
    "    def __len__(self):\n",
    "        \"\"\"\n",
    "        There exists no batch processing. So the size is 1\n",
    "        \"\"\"\n",
    "        return 1"
   ]
  },
  {
   "cell_type": "code",
   "execution_count": null,
   "metadata": {
    "scrolled": false
   },
   "outputs": [],
   "source": [
    "if __name__ == \"__main__\":\n",
    "    \n",
    "    # Domain bounds\n",
    "    lb = np.array([0, 0.0])\n",
    "    ub = np.array([1, 1])\n",
    "\n",
    "    # initial condition\n",
    "    ic_dataset = InitialConditionDataset(n0=50, x=x, t=t, u=u)\n",
    "    initial_condition = pf.InitialCondition(ic_dataset)\n",
    "    \n",
    "    # boundary conditions\n",
    "    bc_dataset = BoundaryConditionDataset(nb=50, lb=lb, ub=ub, t=t)\n",
    "    dirichlet_bc_u = pf.DirichletBC(u[0,:],bc_dataset, 0, \"u dirichlet boundary condition\")\n",
    "\n",
    "    # PDE\n",
    "    pde_dataset = PDEDataset(20000, lb, ub)\n",
    "\n",
    "\n",
    "    def heatequation1d(x, u):\n",
    "        pred = u\n",
    "        u = pred[:, 0]\n",
    "        print(\"x:\", x.shape)\n",
    "        grads = ones(u.shape, device=pred.device) # move to the same device as prediction\n",
    "        grad_u = grad(u, x, create_graph=True, grad_outputs=grads)[0]\n",
    "\n",
    "        # calculate first order derivatives\n",
    "        u_x = grad_u[:, 0]\n",
    "        print(\"u_x\", u_x.shape)\n",
    "        u_t = grad_u[:, 1]\n",
    "        print(\"u_t\", u_t.shape)\n",
    "\n",
    "        # calculate second order derivatives\n",
    "        grad_u_x = grad(u_x, x, create_graph=True, grad_outputs=grads)[0]\n",
    "        \n",
    "        u_xx = grad_u_x[:, 0]\n",
    "        print(\"u_xx\", u_xx.shape)\n",
    "\n",
    "        # thermal diffusivity k = 0.5\n",
    "        f_u = u_t - 0.5 * u_xx\n",
    "        print(\"f_u.shape\", f_u.shape)\n",
    "\n",
    "        return f_u\n",
    "\n",
    "\n",
    "    pde_loss = pf.PDELoss(pde_dataset, heatequation1d)\n",
    "    model = pf.models.MLP(input_size=2, output_size=2, hidden_size=100, num_hidden=4, lb=lb, ub=ub)\n",
    "    pinn = pf.PINN(model, 2, 2, pde_loss, initial_condition, [dirichlet_bc_u], use_gpu=False)\n",
    "    pinn.fit(100, 'Adam', 1e-3)\n",
    "    \n",
    "    "
   ]
  },
  {
   "cell_type": "code",
   "execution_count": null,
   "metadata": {},
   "outputs": [],
   "source": []
  },
  {
   "cell_type": "code",
   "execution_count": null,
   "metadata": {},
   "outputs": [],
   "source": []
  }
 ],
 "metadata": {
  "kernelspec": {
   "display_name": "Python 3",
   "language": "python",
   "name": "python3"
  },
  "language_info": {
   "codemirror_mode": {
    "name": "ipython",
    "version": 3
   },
   "file_extension": ".py",
   "mimetype": "text/x-python",
   "name": "python",
   "nbconvert_exporter": "python",
   "pygments_lexer": "ipython3",
   "version": "3.7.4"
  }
 },
 "nbformat": 4,
 "nbformat_minor": 2
}
