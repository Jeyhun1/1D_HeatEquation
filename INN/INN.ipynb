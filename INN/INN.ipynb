{
  "cells": [
    {
      "cell_type": "code",
      "execution_count": 3,
      "metadata": {
        "id": "iQ053xS8sbyV"
      },
      "outputs": [],
      "source": [
        "import sys\n",
        "# import FrEIA framework\n",
        "sys.path.append(\"/FrEIA-master\") "
      ]
    },
    {
      "cell_type": "code",
      "execution_count": 4,
      "metadata": {
        "id": "a1eVVkYZu6Qu"
      },
      "outputs": [],
      "source": [
        "import matplotlib.pyplot as plt\n",
        "import matplotlib.gridspec as gridspec\n",
        "from matplotlib.pyplot import figure\n",
        "from torch.utils.data import DataLoader\n",
        "import plain_inn_swap\n",
        "from tesladatainn import TeslaDatasetInn\n",
        "import numpy as np\n",
        "import time"
      ]
    },
    {
      "cell_type": "markdown",
      "metadata": {
        "id": "fl9wcn01r3cQ"
      },
      "source": [
        "### Constants"
      ]
    },
    {
      "cell_type": "code",
      "execution_count": 5,
      "metadata": {
        "id": "K1MPrjl_r3cU"
      },
      "outputs": [],
      "source": [
        "batch_size = 2048\n",
        "lr = 1e-5\n",
        "device = \"cuda:0\"\n",
        "\n",
        "num_features = 100\n",
        "num_blocks = 5\n",
        "\n",
        "# Lagrange multipliers of our multi-objective function\n",
        "#Todo: those have to be optimized via wandb\n",
        "lambd_predict_back= 1. \n",
        "lambd_latent = 1. #300.\n",
        "lambd_rev = 1. #450."
      ]
    },
    {
      "cell_type": "markdown",
      "metadata": {
        "id": "PGy7xMvZr3cW"
      },
      "source": [
        "### Training\n",
        "The following cell basically trains an Invertible Neural Network as of (Ardizzone, 2018) without padding: `[y,z] <=> x` with `x` = parameters, `y` = temperature readings and `z` our latent variable (iid. Gaussian)"
      ]
    },
    {
      "cell_type": "code",
      "execution_count": 6,
      "metadata": {
        "id": "jKHomfv6r3cX"
      },
      "outputs": [],
      "source": [
        "ds = TeslaDatasetInn(device = device, data = \"train\")\n",
        "train_dataloader = DataLoader(ds, batch_size=batch_size, shuffle=False)\n",
        "# get one sample of our dataset to infer its input and output dimension\n",
        "x,y = ds.__getitem__(0)\n",
        "dim_inp = x.shape[0]\n",
        "dim_outp = 1"
      ]
    },
    {
      "cell_type": "code",
      "execution_count": 7,
      "metadata": {
        "id": "PeEN_XuAr3cZ"
      },
      "outputs": [],
      "source": [
        "my_inn = plain_inn_swap.INN(ndim_tot = dim_inp, ndim_y = dim_outp, ndim_x = dim_inp, ndim_z=dim_inp-dim_outp, \n",
        "            device = device,\n",
        "             lambd_predict_back = lambd_predict_back, lambd_latent = lambd_latent, lambd_rev = lambd_rev,\n",
        "             feature = num_features, num_blocks = num_blocks, batch_size = batch_size, lr = lr)"
      ]
    },
    {
      "cell_type": "code",
      "execution_count": null,
      "metadata": {
        "id": "fxxHthadr3cb"
      },
      "outputs": [],
      "source": [
        "begin = time.time()\n",
        "my_inn.train(n_epochs=100, train_loader=train_dataloader, val_loader=train_dataloader)\n",
        "end = time.time()\n",
        "#print(\"training time:\", end - begin)"
      ]
    },
    {
      "cell_type": "markdown",
      "metadata": {
        "id": "d5FdP96Qr3cf"
      },
      "source": [
        "### Analysis of the model on training data"
      ]
    },
    {
      "cell_type": "code",
      "execution_count": null,
      "metadata": {
        "id": "x9Q3i8oNxUEP"
      },
      "outputs": [],
      "source": [
        "x,y = ds.x_norm,ds.y\n",
        "\n",
        "# Make a prediction\n",
        "pred,_ = my_inn.model(x)\n",
        "pred = pred.detach().cpu().numpy()[:,0] # take temperature components, the other three elements are z\n",
        "\n",
        "#pred = (pred + 1)*(ds.ub_y.cpu().numpy() - ds.lb_y.cpu().numpy())/2 + ds.lb_y.cpu().numpy()\n",
        "y = y.detach().cpu().numpy().squeeze()\n",
        "\n",
        "print('relative l2 norm: ', np.linalg.norm(y-pred) / np.linalg.norm(y)*100)"
      ]
    },
    {
      "cell_type": "code",
      "execution_count": null,
      "metadata": {
        "id": "9fIvlZ_lxYRF"
      },
      "outputs": [],
      "source": [
        "import matplotlib as mpl\n",
        "mpl.rcParams['agg.path.chunksize'] = 10000\n",
        "\n",
        "figure(figsize=(10, 8), dpi= 350)\n",
        "\n",
        "plt.plot(pred, '--')\n",
        "plt.plot(ds.y.cpu(), '-')\n",
        "plt.legend(['Prediction', 'ground-truth'])\n",
        "plt.ylabel('Temperature / °C')\n",
        "plt.show()"
      ]
    },
    {
      "cell_type": "markdown",
      "metadata": {
        "id": "SPpRsoat3q1R"
      },
      "source": [
        "### Function for evaluating the performance of the model on test data"
      ]
    },
    {
      "cell_type": "code",
      "execution_count": 21,
      "metadata": {
        "id": "Dbvw11pHvYYr"
      },
      "outputs": [],
      "source": [
        "def evaluate(id):\n",
        "    \n",
        "    dss = TeslaDatasetInn(device = device, ID = id, data = \"test\")\n",
        "\n",
        "    x,y = dss.x_norm,dss.y\n",
        "\n",
        "    # Make a prediction\n",
        "    pred,_ = my_inn.model(x.to(device))\n",
        "    pred = pred.detach().cpu().numpy()[:,0] # take temperature components, the other three elements are z\n",
        "\n",
        "    #pred = (pred + 1)*(dss.ub_y - dss.lb_y)/2 + dss.lb_y\n",
        "    y = y.detach().cpu().numpy().squeeze()\n",
        "\n",
        "    print('relative l2 norm: ', np.linalg.norm(y-pred) / np.linalg.norm(y)*100)\n",
        "\n",
        "    import matplotlib as mpl\n",
        "    mpl.rcParams['agg.path.chunksize'] = 10000\n",
        "    figure(figsize=(10, 8), dpi= 1440)\n",
        "\n",
        "    plt.plot(pred, '--')\n",
        "    plt.plot(y, '-')\n",
        "    plt.legend(['Prediction', 'ground-truth'])\n",
        "    plt.ylabel('Temperature / °C')\n",
        "    plt.show()"
      ]
    },
    {
      "cell_type": "markdown",
      "metadata": {
        "id": "fEar82s73yNF"
      },
      "source": [
        "### Analysis of the model on test data"
      ]
    },
    {
      "cell_type": "code",
      "execution_count": null,
      "metadata": {
        "id": "ML06Z9W7vZm4"
      },
      "outputs": [],
      "source": [
        "# Test values = [16,39,47,52,72,81,88]\n",
        "evaluate(16)"
      ]
    },
    {
      "cell_type": "code",
      "execution_count": null,
      "metadata": {
        "id": "XhSwDbpNvkbu"
      },
      "outputs": [],
      "source": [
        "# Test values = [16,39,47,52,72,81,88]\n",
        "evaluate(39)"
      ]
    },
    {
      "cell_type": "code",
      "execution_count": null,
      "metadata": {
        "id": "56UeexXNvj5K"
      },
      "outputs": [],
      "source": [
        "# Test values = [16,39,47,52,72,81,88]\n",
        "evaluate(47)"
      ]
    },
    {
      "cell_type": "code",
      "execution_count": null,
      "metadata": {
        "id": "p-ix29Opvjm9"
      },
      "outputs": [],
      "source": [
        "# Test values = [16,39,47,52,72,81,88]\n",
        "evaluate(52)"
      ]
    },
    {
      "cell_type": "code",
      "execution_count": null,
      "metadata": {
        "id": "iSJRoKYcvi4W"
      },
      "outputs": [],
      "source": [
        "# Test values = [16,39,47,52,72,81,88]\n",
        "evaluate(72)"
      ]
    },
    {
      "cell_type": "code",
      "execution_count": null,
      "metadata": {
        "id": "1SqFySSBviez"
      },
      "outputs": [],
      "source": [
        "# Test values = [16,39,47,52,72,81,88]\n",
        "evaluate(81)"
      ]
    },
    {
      "cell_type": "code",
      "execution_count": null,
      "metadata": {
        "id": "Duy_tQYrwCfj"
      },
      "outputs": [],
      "source": [
        "# Test values = [16,39,47,52,72,81,88]\n",
        "evaluate(88)"
      ]
    }
  ],
  "metadata": {
    "accelerator": "GPU",
    "colab": {
      "collapsed_sections": [],
      "name": "1D_Heat_Equation_INN.ipynb",
      "provenance": []
    },
    "kernelspec": {
      "display_name": "Python 3",
      "language": "python",
      "name": "python3"
    },
    "language_info": {
      "codemirror_mode": {
        "name": "ipython",
        "version": 3
      },
      "file_extension": ".py",
      "mimetype": "text/x-python",
      "name": "python",
      "nbconvert_exporter": "python",
      "pygments_lexer": "ipython3",
      "version": "3.6.5"
    },
    "latex_envs": {
      "LaTeX_envs_menu_present": true,
      "autoclose": false,
      "autocomplete": true,
      "bibliofile": "biblio.bib",
      "cite_by": "apalike",
      "current_citInitial": 1,
      "eqLabelWithNumbers": true,
      "eqNumInitial": 1,
      "hotkeys": {
        "equation": "Ctrl-E",
        "itemize": "Ctrl-I"
      },
      "labels_anchors": false,
      "latex_user_defs": false,
      "report_style_numbering": false,
      "user_envs_cfg": false
    }
  },
  "nbformat": 4,
  "nbformat_minor": 0
}
