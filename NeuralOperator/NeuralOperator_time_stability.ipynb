{
  "cells": [
    {
      "cell_type": "code",
      "execution_count": 3,
      "metadata": {
        "colab": {
          "base_uri": "https://localhost:8080/"
        },
        "id": "5XqFaBeDXyHq",
        "outputId": "c0411e91-96a5-4dc6-cd06-c017b9ac00f3"
      },
      "outputs": [
        {
          "name": "stdout",
          "output_type": "stream",
          "text": [
            "Was not able to import Horovod. Thus Horovod support is not enabled\n"
          ]
        }
      ],
      "source": [
        "import sys\n",
        "import numpy as np\n",
        "import torch\n",
        "from torch import Tensor, ones, stack, load\n",
        "import matplotlib.pyplot as plt\n",
        "import matplotlib.gridspec as gridspec\n",
        "from matplotlib.pyplot import figure\n",
        "import pandas as pd\n",
        "from torch.nn import Module\n",
        "from torch.utils.data import DataLoader\n",
        "from scipy import stats\n",
        "from pathlib import Path\n",
        "import wandb\n",
        "import time\n",
        "from tesladatano import TeslaDatasetNoStb\n",
        "\n",
        "# Append PINNFramework\n",
        "sys.path.append(\"...\") \n",
        "import PINNFramework as pf"
      ]
    },
    {
      "cell_type": "code",
      "execution_count": 5,
      "metadata": {
        "colab": {
          "base_uri": "https://localhost:8080/"
        },
        "id": "xEqKEcG8YMpg",
        "outputId": "5884f723-c4fa-48b6-dbfd-48d39b53d8b8"
      },
      "outputs": [
        {
          "name": "stdout",
          "output_type": "stream",
          "text": [
            "cpu\n"
          ]
        }
      ],
      "source": [
        "# Use cuda if it is available, else use the cpu\n",
        "device = torch.device(\"cuda:0\" if torch.cuda.is_available() else \"cpu\")\n",
        "print(device)"
      ]
    },
    {
      "cell_type": "markdown",
      "metadata": {
        "id": "wqcpUnvN4nri"
      },
      "source": [
        "## Preprocessing\n"
      ]
    },
    {
      "cell_type": "code",
      "execution_count": 6,
      "metadata": {
        "colab": {
          "base_uri": "https://localhost:8080/"
        },
        "id": "foMmmsBzb_1J",
        "outputId": "70d76580-d005-4379-edda-1c2cc72b8f1b"
      },
      "outputs": [
        {
          "name": "stdout",
          "output_type": "stream",
          "text": [
            "(445266, 10)\n"
          ]
        }
      ],
      "source": [
        "# # login wandb\n",
        "# wandb.login()\n",
        "\n",
        "# # Initialize WandB (optional)\n",
        "# wandb.init(name='NO_run time stability', \n",
        "#            project='Neural_Operator_project',\n",
        "#            #notes='...', \n",
        "#            #tags=['...'],\n",
        "#            #entity='...'\n",
        "#            )\n",
        "\n",
        "# WandB Configurations (optional)\n",
        "wandb.config.normalize = 1000  \n",
        "wandb.config.batch_size= 1   \n",
        "wandb.config.lr = 1e-3\n",
        "normalize = wandb.config.normalize\n",
        "\n",
        "# Create instance of the dataset\n",
        "ds = TeslaDatasetNoStb(device = device, data =\"train\", normalize = wandb.config.normalize, rel_time = True, diff = \"central_diff\")\n",
        "\n",
        "# trainloader\n",
        "train_loader = DataLoader(ds, batch_size=wandb.config.batch_size,shuffle=True)\n",
        "\n",
        "model = pf.models.MLP(input_size=6,\n",
        "                      output_size=1, \n",
        "                      hidden_size=100, \n",
        "                      num_hidden=4, \n",
        "                      lb=ds.lb, \n",
        "                      ub=ds.ub,\n",
        "                      #activation = torch.relu\n",
        "                      )\n",
        "model.to(device)\n",
        "\n",
        "# optimizer\n",
        "optimizer = torch.optim.Adam(model.parameters(),lr=wandb.config.lr)\n",
        "criterion = torch.nn.MSELoss()\n",
        "\n",
        "# # Log the network weight histograms (optional)\n",
        "# wandb.watch(model)"
      ]
    },
    {
      "cell_type": "markdown",
      "metadata": {
        "id": "3orP9qN44ibN"
      },
      "source": [
        "## Function for writing a checkpoint during training\n"
      ]
    },
    {
      "cell_type": "code",
      "execution_count": null,
      "metadata": {
        "id": "k96SW8KwetZO"
      },
      "outputs": [],
      "source": [
        "# function to write a checkpoint\n",
        "def write_checkpoint(checkpoint_path, epoch, min_mlp_loss, optimizer):\n",
        "    checkpoint = {}\n",
        "    checkpoint[\"epoch\"] = epoch\n",
        "    checkpoint[\"minimum_pinn_loss\"] = min_mlp_loss\n",
        "    checkpoint[\"optimizer\"] = optimizer.state_dict()\n",
        "    checkpoint[\"mlp_model\"] = model.state_dict()\n",
        "    torch.save(checkpoint, checkpoint_path)"
      ]
    },
    {
      "cell_type": "markdown",
      "metadata": {
        "id": "LL70e1Ry40G5"
      },
      "source": [
        "## Training of the Neural Operator based on time stability loss\n"
      ]
    },
    {
      "cell_type": "code",
      "execution_count": null,
      "metadata": {
        "id": "9p01JZkSBvB4"
      },
      "outputs": [],
      "source": [
        "epochs = 100\n",
        "min_mlp_loss = np.inf\n",
        "\n",
        "x_data_plot=[]\n",
        "y_data_all_plot=[]\n",
        "y_data_1_plot=[]\n",
        "y_data_2_plot=[]\n",
        "\n",
        "# Set fixed random number seed\n",
        "torch.manual_seed(1234)\n",
        "\n",
        "begin = time.time()\n",
        "for epoch in range(epochs):\n",
        "    # Print epoch\n",
        "    print(f'Starting epoch {epoch}')\n",
        "    \n",
        "    # Set current and total loss value\n",
        "    current_loss = 0.0\n",
        "    total_loss = 0.0\n",
        "    total_loss1 = 0.0\n",
        "    total_loss2 = 0.0\n",
        "    \n",
        "    model.train()   # Optional when not using Model Specific layer\n",
        "    for i, data in enumerate(train_loader,0):\n",
        "\n",
        "        x_batch, y_batch, delta_t,rel_t = data\n",
        "\n",
        "        x_batch = torch.squeeze(x_batch, 0)\n",
        "        y_batch = torch.squeeze(y_batch, 0)\n",
        "        delta_t = torch.squeeze(delta_t, 0)\n",
        "        rel_t = torch.squeeze(rel_t, 0)\n",
        "\n",
        "        # Ground-truth temperature\n",
        "        true_temp = x_batch[:,4].detach().clone()\n",
        "\n",
        "        input0 = x_batch[0].detach().clone()\n",
        "\n",
        "        # Predicted temperature using model prediction and forward euler method\n",
        "        #pred_temp = true_temp.detach().clone().to(device)\n",
        "        pred_temp = torch.zeros(x_batch.shape[0])\n",
        "        pred_temp[0]=true_temp[0].detach().clone().to(device)\n",
        "\n",
        "        optimizer.zero_grad()\n",
        "        prediction = model(x_batch.to(device))\n",
        "     \n",
        "        for j in range(0, x_batch.shape[0] - 1):\n",
        "          input0[4] = torch.tensor(pred_temp[j]).detach().clone()\n",
        "          #if rel_time == True:\n",
        "          input0[5] = torch.tensor(rel_t[j]).detach().clone()\n",
        "          pred = model(input0.to(device))/wandb.config.normalize\n",
        "          pred_temp[j + 1] = pred_temp[j] + pred*delta_t[j]\n",
        " \n",
        "        loss = criterion(pred_temp.to(device),true_temp.to(device))\n",
        "\n",
        "        loss.backward()\n",
        "        optimizer.step()\n",
        "\n",
        "        # Print statistics\n",
        "        current_loss += loss.item()\n",
        "        total_loss += loss.item()\n",
        "\n",
        "        if i % 50 == 49:\n",
        "            print('Loss after mini-batch %5d: %.8f' %\n",
        "                  (i + 1, current_loss / 50))\n",
        "            current_loss = 0.0\n",
        "    \n",
        "    Loss = total_loss/(i+1)\n",
        "    print(\"Epoch \", epoch, \"Total Loss \", Loss)\n",
        "\n",
        "    x_data_plot.append(epoch)\n",
        "    y_data_all_plot.append(Loss)\n",
        " \n",
        "    # uncomment for saving the best model and writing checkpoints during training\n",
        "    # # save best model\n",
        "    # if min_mlp_loss > Loss:\n",
        "    #     print(f'Validation Loss Decreased({min_mlp_loss:.6f}--->{Loss:.6f}) \\t Saving The Model')\n",
        "    #     min_mlp_loss = Loss\n",
        "    #     # Saving State Dict\n",
        "    #     model_name_path = Path('/nostb/best_model_stb_{}_{}.pt'.format(wandb.run.id, wandb.run.name))\n",
        "    #     torch.save(model.state_dict(), model_name_path)\n",
        "    \n",
        "    ## writing checkpoint\n",
        "    # if (epoch + 1) % 20 == 0:\n",
        "    #     checkpoint_path = Path('/nostb/checkpoint_stb_{}_{}_{}.pt'.format(wandb.run.id, wandb.run.name, epoch))\n",
        "    #     write_checkpoint(checkpoint_path, epoch, min_mlp_loss, optimizer)\n",
        "        \n",
        "        \n",
        "    # # Log the loss and accuracy values at the end of each epoch\n",
        "    # wandb.log({\n",
        "    #     \"Epoch\": epoch,\n",
        "    #     \"Total Loss\": Loss,\n",
        "        # })\n",
        "end = time.time()\n",
        "        \n",
        "print(\"training time:\", end - begin)"
      ]
    },
    {
      "cell_type": "markdown",
      "metadata": {
        "id": "31h6zGUA7EJR"
      },
      "source": [
        "## Plot of the loss against epochs"
      ]
    },
    {
      "cell_type": "code",
      "execution_count": null,
      "metadata": {
        "id": "loVO9lty_1mH"
      },
      "outputs": [],
      "source": [
        "# Make the plot of Total Loss vs epochs\n",
        "dpi = 360\n",
        "figure(figsize=(10, 8), dpi = dpi)\n",
        "plt.plot(x_data_plot,y_data_all_plot)\n",
        "plt.title('Training loss vs epoch')\n",
        "plt.xlabel('Epoch')\n",
        "plt.ylabel('Total Loss')\n",
        "plt.show()"
      ]
    },
    {
      "cell_type": "markdown",
      "metadata": {
        "id": "gVyeyY507MJO"
      },
      "source": [
        "## Postprocessing - Load the model"
      ]
    },
    {
      "cell_type": "code",
      "execution_count": 26,
      "metadata": {
        "colab": {
          "base_uri": "https://localhost:8080/"
        },
        "id": "rjbatfYmb_1P",
        "outputId": "dda8d7f4-f79a-4bd1-ed59-a13c04f7ffdc"
      },
      "outputs": [
        {
          "data": {
            "text/plain": [
              "MLP(\n",
              "  (linear_layers): ModuleList(\n",
              "    (0): Linear(in_features=6, out_features=100, bias=True)\n",
              "    (1): Linear(in_features=100, out_features=100, bias=True)\n",
              "    (2): Linear(in_features=100, out_features=100, bias=True)\n",
              "    (3): Linear(in_features=100, out_features=100, bias=True)\n",
              "    (4): Linear(in_features=100, out_features=100, bias=True)\n",
              "    (5): Linear(in_features=100, out_features=1, bias=True)\n",
              "  )\n",
              ")"
            ]
          },
          "execution_count": 26,
          "metadata": {},
          "output_type": "execute_result"
        }
      ],
      "source": [
        "# Import the best model\n",
        "# PATH = '/nostb/best_model_stb_{}_{}.pt'.format(wandb.run.id, wandb.run.name)\n",
        "PATH =\"/nostb/best_model_stb_3naw721b_NO_run time stability.pt\"\n",
        "model.load_state_dict(torch.load(PATH))\n",
        "model.eval()"
      ]
    },
    {
      "cell_type": "markdown",
      "metadata": {
        "id": "CRvfZEuk7SH0"
      },
      "source": [
        "## Performance of the model on training data"
      ]
    },
    {
      "cell_type": "code",
      "execution_count": null,
      "metadata": {
        "id": "-2CKaap0Aauy"
      },
      "outputs": [],
      "source": [
        "# Make a prediction\n",
        "pred = model(ds.x.float().to(device)) #GPU\n",
        "pred = pred.detach().cpu().numpy()/normalize\n",
        "\n",
        "# ground-truth\n",
        "df_y_tensor_np = ds.y.numpy()/normalize\n",
        "\n",
        "# Some statistics on the model performance on all of dataset\n",
        "mae = np.sum(np.abs(pred- df_y_tensor_np).mean(axis=None))\n",
        "print('MAE:', mae)\n",
        "\n",
        "mse = ((df_y_tensor_np - pred)**2).mean(axis=None)\n",
        "print('MSE:', mse)\n",
        "\n",
        "rel_error = np.linalg.norm(pred - df_y_tensor_np) / np.linalg.norm(df_y_tensor_np)\n",
        "print('Relative error (%):', rel_error*100)\n",
        "\n",
        "figure(figsize=(10, 8), dpi= 360)\n",
        "\n",
        "plt.plot(pred, '--')\n",
        "plt.plot(df_y_tensor_np, '-')\n",
        "plt.title('Prediction accuracy on training data')\n",
        "plt.legend(['Prediction', 'ground-truth'])\n",
        "plt.xlabel('t-idx')\n",
        "plt.ylabel('ΔTemp/Δt (°C/s)')\n",
        "plt.show()\n",
        "\n",
        "# figure(figsize=(10, 8), dpi= 360)\n",
        "# #time\n",
        "# t=ds.t\n",
        "# plt.plot(t,pred, '--')\n",
        "# plt.plot(t,df_y_tensor_np, '-')\n",
        "# plt.title('Prediction accuracy on training data')\n",
        "# plt.legend(['Prediction', 'ground-truth'])\n",
        "# plt.xlabel('time / seconds')\n",
        "# plt.ylabel('ΔTemp/Δt (°C/s)')\n",
        "# plt.show()\n"
      ]
    },
    {
      "cell_type": "markdown",
      "metadata": {
        "id": "npwdn_RM7lC-"
      },
      "source": [
        "## Function for evaluating the performance of the model on training data"
      ]
    },
    {
      "cell_type": "code",
      "execution_count": 28,
      "metadata": {
        "id": "5pidiOfNfORl"
      },
      "outputs": [],
      "source": [
        "\n",
        "def evaluate(idd,rel_time,diff):\n",
        "  ds_test = TeslaDatasetNoStb(rel_time = rl, diff = diff,device = device, ID = idd, data = \"test\")\n",
        " \n",
        "\n",
        "  # Prediction accuracy of the Neural Operator\n",
        "  print('Prediction accuracy of the Neural Operator (NO)')\n",
        "\n",
        "  t=ds_test.t\n",
        "  begin = time.time()\n",
        "  pred_der = model(ds_test.x.to(device))\n",
        "  pred_der = pred_der.detach().cpu().numpy()/normalize\n",
        "  true_der = ds_test.y.numpy()\n",
        "  end = time.time()\n",
        "  print(\"time:\", end - begin)\n",
        "\n",
        "  #MAE\n",
        "  mae = np.sum(np.abs(pred_der- true_der).mean(axis=None))\n",
        "  print('MAE:', mae)\n",
        "\n",
        "  #MSE\n",
        "  mse = ((true_der - pred_der)**2).mean(axis=None)\n",
        "  print('MSE:', mse)\n",
        "\n",
        "  #Relative error\n",
        "  rel_error = np.linalg.norm(pred_der - true_der) / np.linalg.norm(true_der)\n",
        "  print('Relative error (%):', rel_error*100)\n",
        "  plt.figure(figsize = (12, 8))\n",
        "  plt.plot(t, pred_der, '-', label='Prediction')\n",
        "  plt.plot(t, true_der, '--', label='Ground-truth')\n",
        "  plt.title('Prediction accuracy of Neural Operator vs ground-truth for drive-ID = {}'.format(idd))\n",
        "  plt.xlabel('t (seconds)')\n",
        "  plt.ylabel('ΔTemp/Δt (°C/s)')\n",
        "  plt.grid()\n",
        "  plt.legend(loc='lower right')\n",
        "  plt.show()\n",
        "  \n",
        "  print('########################################################')\n",
        "  \n",
        "\n",
        "  #3)Forward Euler method with fixed initial env. conditions but with updated \n",
        "  #Temperature (and rel time) from the prediction of the model at previous iteration\n",
        "  #with generated temporally equidistant time steps\n",
        "\n",
        "  print('Forwad Euler method with fixed initial env conditions')\n",
        "\n",
        "  rel_t = ds_test.rel_t\n",
        "\n",
        "  # ground-truth time\n",
        "  t=ds_test.t\n",
        "  max_t = t.max()\n",
        "  t=t.numpy()\n",
        "\n",
        "  # Ground-truth temperature\n",
        "  true_temp = ds_test.x[:,4].numpy()\n",
        "\n",
        "  # Predicted temperature using model prediction and forward euler method\n",
        "  pred_temp = np.zeros((ds_test.x.shape[0]))\n",
        "  pred_temp = true_temp.copy()\n",
        "\n",
        "  # Fixed initial conditions for all environmental conditions\n",
        "  input = ds_test.x[0].detach().clone()\n",
        "\n",
        "  # temporally equdistant time steps\n",
        "  tt = np.linspace(0,max_t,ds_test.x.shape[0])\n",
        "  step_size=tt[2]-tt[1]\n",
        "\n",
        "  #ODE\n",
        "  begin = time.time()\n",
        "\n",
        "  for i in range(0, ds_test.x.shape[0] - 1):\n",
        "      input[4] = torch.tensor(pred_temp[i]).detach().clone()\n",
        "      if rel_time == True:\n",
        "        input[5] = torch.tensor(rel_t[i]).detach().clone()\n",
        "      pred = model(input.to(device))\n",
        "      pred = pred.detach().cpu().numpy()/normalize\n",
        "      pred_temp[i + 1] = pred_temp[i] + pred*step_size\n",
        "  end = time.time()\n",
        "\n",
        "  print(\"time:\", end - begin)\n",
        "\n",
        "  #MAE\n",
        "  mae = np.sum(np.abs(pred_temp- true_temp).mean(axis=None))\n",
        "  print('MAE:', mae)\n",
        "\n",
        "  #MSE\n",
        "  mse = ((true_temp - pred_temp)**2).mean(axis=None)\n",
        "  print('MSE:', mse)\n",
        "\n",
        "  #Relative error\n",
        "  rel_error = np.linalg.norm(pred_temp - true_temp) / np.linalg.norm(true_temp)\n",
        "  print('Relative error (%):', rel_error*100)\n",
        "\n",
        "  plt.figure(figsize = (12, 8))\n",
        "  plt.plot(tt, pred_temp, '-', label='Prediction')\n",
        "  plt.plot(t, true_temp, '--', label='Ground-truth')\n",
        "  plt.title('Prediction vs ground-truth for drive-ID = {} (temporally equidistant step size)'.format(idd))\n",
        "  plt.xlabel('t (seconds)')\n",
        "  plt.ylabel('Temperature (°C)')\n",
        "  plt.grid()\n",
        "  plt.legend(loc='lower right')\n",
        "  plt.show()\n",
        "\n",
        "  print('########################################################')\n",
        "\n",
        "  #4)Forward Euler method with updated environmental conditions from the dataset at each iteration\n",
        "  #But with updated temperature from the prediction of the model at previous iteration\n",
        "  #with true step sizes\n",
        "  print('Forwad Euler method with updated env conditions from the dataset at each iteration with true step sizes')\n",
        "  \n",
        "  # time\n",
        "  t=ds_test.t\n",
        "  max_t = t.max()\n",
        "  t=t.numpy()\n",
        "\n",
        "  # Ground-truth temperature\n",
        "  true_temp = ds_test.x[:,4].numpy()\n",
        "\n",
        "  # Predicted temperature using model prediction and forward euler method\n",
        "  pred_temp = np.zeros((ds_test.x.shape[0]))\n",
        "  pred_temp[0] = true_temp[0].copy()\n",
        "\n",
        "\n",
        "  begin = time.time()\n",
        "  for i in range(0, ds_test.x.shape[0] - 1):\n",
        "        input = ds_test.x[i].detach().clone()\n",
        "        input[4] = torch.tensor(pred_temp[i]).detach().clone()\n",
        "        pred = model(input.to(device))\n",
        "        pred = pred.detach().cpu().numpy()/normalize\n",
        "        pred_temp[i + 1] = pred_temp[i] + pred*(t[i+1]-t[i])\n",
        "  end = time.time()\n",
        "\n",
        "\n",
        "  print(\"time:\", end - begin)\n",
        "  #MAE \n",
        "  mae = np.sum(np.abs(pred_temp- true_temp).mean(axis=None))\n",
        "  print('MAE:', mae)\n",
        "\n",
        "  #MSE\n",
        "  mse = ((true_temp - pred_temp)**2).mean(axis=None)\n",
        "  print('MSE:', mse)\n",
        "\n",
        "  # Relative error\n",
        "  rel_error = np.linalg.norm(pred_temp - true_temp) / np.linalg.norm(true_temp)\n",
        "  print('Relative error (%):', rel_error*100)\n",
        "\n",
        "  plt.figure(figsize = (12, 8))\n",
        "  plt.plot(t, pred_temp, '-', label='Prediction')\n",
        "  plt.plot(t, true_temp, '--', label='Ground-truth')\n",
        "  plt.title('Prediction (with updated env. conditions) vs ground-truth for drive-ID = {} (true step size)'.format(idd))\n",
        "  plt.xlabel('t (seconds)')\n",
        "  plt.ylabel('Temperature (°C)')\n",
        "  plt.grid()\n",
        "  plt.legend(loc='lower right')\n",
        "  plt.show()\n",
        "\n"
      ]
    },
    {
      "cell_type": "markdown",
      "metadata": {
        "id": "Dwst-X1O7fhZ"
      },
      "source": [
        "## Performance of the model on test data"
      ]
    },
    {
      "cell_type": "code",
      "execution_count": null,
      "metadata": {
        "id": "hetyTMl3fOLt"
      },
      "outputs": [],
      "source": [
        "# Test values = [16,39,47,52,72,81,88]\n",
        "rl = True\n",
        "diff = \"central_diff\"\n",
        "evaluate(idd=16,rel_time=rl,diff=diff)"
      ]
    },
    {
      "cell_type": "code",
      "execution_count": null,
      "metadata": {
        "id": "NtZirhhIfOGS"
      },
      "outputs": [],
      "source": [
        "# Test values = [16,39,47,52,72,81,88]\n",
        "\n",
        "evaluate(idd=39,rel_time=rl,diff=diff)"
      ]
    },
    {
      "cell_type": "code",
      "execution_count": null,
      "metadata": {
        "id": "6ZodRyF_fN3j"
      },
      "outputs": [],
      "source": [
        "# Test values = [16,39,47,52,72,81,88]\n",
        "\n",
        "evaluate(idd=47,rel_time=rl,diff=diff)"
      ]
    },
    {
      "cell_type": "code",
      "execution_count": null,
      "metadata": {
        "id": "OD9XSIebyXOQ"
      },
      "outputs": [],
      "source": [
        "# Test values = [16,39,47,52,72,81,88]\n",
        "\n",
        "evaluate(idd=52,rel_time=rl,diff=diff)"
      ]
    },
    {
      "cell_type": "code",
      "execution_count": null,
      "metadata": {
        "id": "OAlvRvAVyXKm"
      },
      "outputs": [],
      "source": [
        "# Test values = [16,39,47,52,72,81,88]\n",
        "\n",
        "evaluate(idd=72,rel_time=rl,diff=diff)"
      ]
    },
    {
      "cell_type": "code",
      "execution_count": null,
      "metadata": {
        "id": "xOBSyl4ayXGq"
      },
      "outputs": [],
      "source": [
        "# Test values = [16,39,47,52,72,81,88]\n",
        "\n",
        "evaluate(idd=81,rel_time=rl,diff=diff)"
      ]
    },
    {
      "cell_type": "code",
      "execution_count": null,
      "metadata": {
        "id": "YV7ye2xayXDA"
      },
      "outputs": [],
      "source": [
        "# Test values = [16,39,47,52,72,81,88]\n",
        "\n",
        "evaluate(idd=88,rel_time=rl,diff=diff)"
      ]
    }
  ],
  "metadata": {
    "colab": {
      "collapsed_sections": [],
      "name": "NeuralOperator_time_stability.ipynb",
      "provenance": []
    },
    "kernelspec": {
      "display_name": "Python 3",
      "language": "python",
      "name": "python3"
    },
    "language_info": {
      "codemirror_mode": {
        "name": "ipython",
        "version": 3
      },
      "file_extension": ".py",
      "mimetype": "text/x-python",
      "name": "python",
      "nbconvert_exporter": "python",
      "pygments_lexer": "ipython3",
      "version": "3.6.5"
    }
  },
  "nbformat": 4,
  "nbformat_minor": 0
}
