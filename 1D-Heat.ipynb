{
 "cells": [
  {
   "cell_type": "markdown",
   "metadata": {},
   "source": [
    "# Implementing an Physics-informed neural network for the 1D Heat equation using the PINN framework"
   ]
  },
  {
   "cell_type": "code",
   "execution_count": null,
   "metadata": {
    "colab": {
     "base_uri": "https://localhost:8080/"
    },
    "id": "MdDrcuZivu8S",
    "outputId": "bda54049-266d-4c46-ea37-da25a30fa793"
   },
   "outputs": [],
   "source": [
    "import sys\n",
    "import numpy as np\n",
    "import scipy.io\n",
    "import torch\n",
    "from pyDOE import lhs\n",
    "from torch import Tensor, ones, stack, load\n",
    "from torch.autograd import grad\n",
    "from torch.utils.data import Dataset\n",
    "import matplotlib.pyplot as plt\n",
    "import matplotlib.gridspec as gridspec\n",
    "import pandas as pd\n",
    "from torch.nn import Module\n",
    "\n",
    "sys.path.append('.../...')  # PINNFramework etc.\n",
    "import PINNFramework as pf"
   ]
  },
  {
   "cell_type": "code",
   "execution_count": null,
   "metadata": {
    "id": "TZkgxF8xvwRW"
   },
   "outputs": [],
   "source": [
    "class InitialConditionDataset(Dataset):\n",
    "\n",
    "    def __init__(self, n0):\n",
    "        \"\"\"\n",
    "        Constructor of the boundary condition dataset\n",
    "\n",
    "        Args:\n",
    "          n0 (int)\n",
    "        \"\"\"\n",
    "        super(type(self)).__init__()\n",
    "        data=pd.read_csv('2021-02-20_battHeater_outside_temp9.0C_IC4.66.csv')\n",
    "        u = pd.DataFrame(data, columns= ['Temperature(℃)']).to_numpy()\n",
    "        t = np.arange(0,u.size*60,60).reshape((u.size, 1))\n",
    "        x= np.linspace(0, 1, num=40)\n",
    "        x=x.reshape((x.size,1))\n",
    "\n",
    "\n",
    "        idx_x = np.random.choice(x.shape[0], n0, replace=False)\n",
    "        self.x = x[idx_x,:]\n",
    "        self.u = u[idx_x,:]\n",
    "        self.t = np.zeros(self.x.shape)\n",
    "\n",
    "    def __len__(self):\n",
    "        \"\"\"\n",
    "        There exists no batch processing. So the size is 1\n",
    "        \"\"\"\n",
    "        return 1\n",
    "\n",
    "    def __getitem__(self, idx):\n",
    "        \n",
    "        x = np.concatenate([self.x, self.t], axis=1)\n",
    "        y = np.concatenate([self.u], axis=1)\n",
    "\n",
    "        return Tensor(x).float(), Tensor(y).float()"
   ]
  },
  {
   "cell_type": "code",
   "execution_count": null,
   "metadata": {
    "id": "TQfgebFpwOmQ"
   },
   "outputs": [],
   "source": [
    "class PDEDataset(Dataset):\n",
    "    def __init__(self, nf, lb, ub):\n",
    "        self.xf = lb + (ub - lb) * lhs(2, nf)\n",
    "\n",
    "    def __getitem__(self, idx):\n",
    "        \"\"\"\n",
    "        Returns data for initial state\n",
    "        \"\"\"\n",
    "        return Tensor(self.xf).float()\n",
    "\n",
    "    def __len__(self):\n",
    "        \"\"\"\n",
    "        There exists no batch processing. So the size is 1\n",
    "        \"\"\"\n",
    "        return 1"
   ]
  },
  {
   "cell_type": "code",
   "execution_count": null,
   "metadata": {
    "id": "eStH2jP_wOTo"
   },
   "outputs": [],
   "source": [
    "def derivatives(x, u):\n",
    "\n",
    "    grads = ones(u.shape, device=u.device) # move to the same device as prediction\n",
    "    grad_u = grad(u, x, create_graph=True, grad_outputs=grads)[0]\n",
    "\n",
    "    # calculate first order derivatives\n",
    "    u_x = grad_u[:, 0]\n",
    "    u_t = grad_u[:, 1]\n",
    "\n",
    "    # calculate second order derivatives\n",
    "    grad_u_x = grad(u_x, x, create_graph=True, grad_outputs=grads)[0]\n",
    "\n",
    "    u_xx = grad_u_x[:, 0]\n",
    "\n",
    "    x, t = x.T\n",
    "    x = x.reshape(u.shape)\n",
    "    t = t.reshape(u.shape)\n",
    "\n",
    "    return torch.stack([x, t, u,\n",
    "                    u_xx, u_t], 1).squeeze()"
   ]
  },
  {
   "cell_type": "code",
   "execution_count": null,
   "metadata": {
    "id": "JIkh-62UQYZF"
   },
   "outputs": [],
   "source": [
    "class HPM(Module):\n",
    "\n",
    "    def __init__(self, kappa_net: Module):\n",
    "        \"\"\"\n",
    "        Constructor of the HPM Model \n",
    "        \"\"\"\n",
    "        super(HPM, self).__init__()\n",
    "        self.kappa_net = kappa_net\n",
    "  \n",
    "    def forward(self, derivatives):\n",
    "\n",
    "        kappa_net_input = derivatives[:, :2]\n",
    "        kappa_output = self.alpha_net(kappa_net_input)\n",
    "        kappa_output = kappa_output.view(-1)\n",
    "\n",
    "        u_xx = derivatives[:, 4].view(-1)\n",
    "\n",
    "        predicted_u_t = kappa_output * (u_xx)\n",
    "\n",
    "        return predicted_u_t\n"
   ]
  },
  {
   "cell_type": "code",
   "execution_count": null,
   "metadata": {
    "colab": {
     "base_uri": "https://localhost:8080/",
     "height": 612
    },
    "id": "fEop20KXwx5I",
    "outputId": "39372648-d4d1-4c11-f309-e4dd2cc7b662"
   },
   "outputs": [],
   "source": [
    "if __name__ == \"__main__\":\n",
    "    # Domain bounds\n",
    "    lb = np.array([0.0, 0.0])\n",
    "    ub = np.array([1, 12600])\n",
    "\n",
    "\n",
    "    # initial condition\n",
    "    ic_dataset = InitialConditionDataset(n0=20)\n",
    "    initial_condition = pf.InitialCondition(ic_dataset)\n",
    "\n",
    "    pde_dataset = PDEDataset(20000, lb, ub)\n",
    "\n",
    "    # Diffusivity model\n",
    "    # Input: x,t\n",
    "    # Output: diffusivity k\n",
    "    kappa_net = pf.models.MLP(input_size=2,\n",
    "                              output_size=1,\n",
    "                              hidden_size=100,\n",
    "                              num_hidden=4,\n",
    "                              lb = lb ,\n",
    "                              ub = ub)\n",
    "    \n",
    "    # PINN model\n",
    "    # Input: x,t\n",
    "    # Output: temperature u at the point\n",
    "    model = pf.models.MLP(input_size=2,\n",
    "                          output_size=1, \n",
    "                          hidden_size=100, \n",
    "                          num_hidden=4, \n",
    "                          lb=lb, \n",
    "                          ub=ub)\n",
    "\n",
    "    hpm_model = HPM(kappa_net)\n",
    "    hpm_loss = pf.HPMLoss.HPMLoss(pde_dataset, derivatives, hpm_model)\n",
    "    pinn = pf.PINN(model, 2, 1, hpm_loss, initial_condition, boundary_condition=None, use_gpu=False)\n",
    "    pinn.fit(100, 'Adam', 1e-3)\n"
   ]
  }
 ],
 "metadata": {
  "colab": {
   "collapsed_sections": [],
   "name": "Untitled0.ipynb",
   "provenance": []
  },
  "kernelspec": {
   "display_name": "Python 3",
   "language": "python",
   "name": "python3"
  },
  "language_info": {
   "codemirror_mode": {
    "name": "ipython",
    "version": 3
   },
   "file_extension": ".py",
   "mimetype": "text/x-python",
   "name": "python",
   "nbconvert_exporter": "python",
   "pygments_lexer": "ipython3",
   "version": "3.7.4"
  }
 },
 "nbformat": 4,
 "nbformat_minor": 1
}
