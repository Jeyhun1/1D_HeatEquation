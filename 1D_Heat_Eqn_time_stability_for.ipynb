{
  "cells": [
    {
      "cell_type": "code",
      "execution_count": 3,
      "metadata": {
        "colab": {
          "base_uri": "https://localhost:8080/"
        },
        "id": "5XqFaBeDXyHq",
        "outputId": "84fdba44-e2d6-4e75-8f54-45e45603da33"
      },
      "outputs": [
        {
          "name": "stdout",
          "output_type": "stream",
          "text": [
            "Was not able to import Horovod. Thus Horovod support is not enabled\n"
          ]
        }
      ],
      "source": [
        "import sys\n",
        "import numpy as np\n",
        "import torch\n",
        "from torch import Tensor, ones, stack, load\n",
        "import matplotlib.pyplot as plt\n",
        "import matplotlib.gridspec as gridspec\n",
        "from matplotlib.pyplot import figure\n",
        "import pandas as pd\n",
        "from torch.nn import Module\n",
        "from torch.utils.data import DataLoader\n",
        "from scipy import stats\n",
        "from tesladatadiff import TeslaDatasetDiff\n",
        "\n",
        "sys.path.append(\"NeuralSolvers\") \n",
        "import PINNFramework as pf"
      ]
    },
    {
      "cell_type": "code",
      "execution_count": 4,
      "metadata": {
        "colab": {
          "base_uri": "https://localhost:8080/"
        },
        "id": "xEqKEcG8YMpg",
        "outputId": "3992c80b-a195-4407-e5cf-3d37caae30c7"
      },
      "outputs": [
        {
          "name": "stdout",
          "output_type": "stream",
          "text": [
            "cpu\n"
          ]
        }
      ],
      "source": [
        "# Use cuda if it is available, else use the cpu\n",
        "device = torch.device(\"cuda:0\" if torch.cuda.is_available() else \"cpu\")\n",
        "print(device)"
      ]
    },
    {
      "cell_type": "code",
      "execution_count": 5,
      "metadata": {
        "id": "qQkJvE48IFHW"
      },
      "outputs": [],
      "source": [
        "normalize=1000"
      ]
    },
    {
      "cell_type": "code",
      "execution_count": 6,
      "metadata": {
        "id": "bWB2kB0jYYb-"
      },
      "outputs": [],
      "source": [
        "# Create instance of the dataset\n",
        "ds = TeslaDatasetDiff(device = device, normalize = normalize)"
      ]
    },
    {
      "cell_type": "code",
      "execution_count": 7,
      "metadata": {
        "id": "Qto5MS9dlclL"
      },
      "outputs": [],
      "source": [
        "train_loader = DataLoader(dataset=ds, batch_size=1024, shuffle=False)\n",
        "#next(iter(train_loader))"
      ]
    },
    {
      "cell_type": "code",
      "execution_count": 8,
      "metadata": {
        "id": "a2RpWmEp6Zk2"
      },
      "outputs": [],
      "source": [
        "model = pf.models.MLP(input_size=5,\n",
        "                      output_size=1, \n",
        "                      hidden_size=100, \n",
        "                      num_hidden=4, \n",
        "                      lb=ds.lb, \n",
        "                      ub=ds.ub,\n",
        "                      activation = torch.relu\n",
        "                      )\n",
        "model.to(device)\n"
      ]
    },
    {
      "cell_type": "code",
      "execution_count": 9,
      "metadata": {
        "id": "VXZeiNIRoK2K"
      },
      "outputs": [],
      "source": [
        "optimizer = torch.optim.Adam(model.parameters(),lr=1e-3)\n",
        "criterion = torch.nn.MSELoss()"
      ]
    },
    {
      "cell_type": "code",
      "execution_count": 10,
      "metadata": {
        "colab": {
          "base_uri": "https://localhost:8080/",
          "height": 532
        },
        "id": "9p01JZkSBvB4",
        "outputId": "384ab44f-49fe-4fc2-b677-fdaf90d4f578"
      },
      "outputs": [
        {
          "name": "stdout",
          "output_type": "stream",
          "text": [
            "Starting epoch 0\n"
          ]
        },
        {
          "name": "stderr",
          "output_type": "stream",
          "text": [
            "/usr/local/lib/python3.7/dist-packages/ipykernel_launcher.py:39: UserWarning: To copy construct from a tensor, it is recommended to use sourceTensor.clone().detach() or sourceTensor.clone().detach().requires_grad_(True), rather than torch.tensor(sourceTensor).\n"
          ]
        },
        {
          "name": "stdout",
          "output_type": "stream",
          "text": [
            "Loss after mini-batch    50: 1851.29698237\n",
            "Loss after mini-batch   100: 14.74022230\n",
            "Loss after mini-batch   150: 207.98347646\n",
            "Loss after mini-batch   200: 16.67346464\n"
          ]
        },
        {
          "ename": "KeyboardInterrupt",
          "evalue": "ignored",
          "output_type": "error",
          "traceback": [
            "\u001b[0;31m---------------------------------------------------------------------------\u001b[0m",
            "\u001b[0;31mKeyboardInterrupt\u001b[0m                         Traceback (most recent call last)",
            "\u001b[0;32m<ipython-input-10-867f3c6b702b>\u001b[0m in \u001b[0;36m<module>\u001b[0;34m()\u001b[0m\n\u001b[1;32m     45\u001b[0m         \u001b[0mloss\u001b[0m \u001b[0;34m=\u001b[0m \u001b[0mloss1\u001b[0m\u001b[0;34m+\u001b[0m\u001b[0mloss2\u001b[0m\u001b[0;34m\u001b[0m\u001b[0;34m\u001b[0m\u001b[0m\n\u001b[1;32m     46\u001b[0m \u001b[0;34m\u001b[0m\u001b[0m\n\u001b[0;32m---> 47\u001b[0;31m         \u001b[0mloss\u001b[0m\u001b[0;34m.\u001b[0m\u001b[0mbackward\u001b[0m\u001b[0;34m(\u001b[0m\u001b[0;34m)\u001b[0m\u001b[0;34m\u001b[0m\u001b[0;34m\u001b[0m\u001b[0m\n\u001b[0m\u001b[1;32m     48\u001b[0m         \u001b[0moptimizer\u001b[0m\u001b[0;34m.\u001b[0m\u001b[0mstep\u001b[0m\u001b[0;34m(\u001b[0m\u001b[0;34m)\u001b[0m\u001b[0;34m\u001b[0m\u001b[0;34m\u001b[0m\u001b[0m\n\u001b[1;32m     49\u001b[0m \u001b[0;34m\u001b[0m\u001b[0m\n",
            "\u001b[0;32m/usr/local/lib/python3.7/dist-packages/torch/_tensor.py\u001b[0m in \u001b[0;36mbackward\u001b[0;34m(self, gradient, retain_graph, create_graph, inputs)\u001b[0m\n\u001b[1;32m    253\u001b[0m                 \u001b[0mcreate_graph\u001b[0m\u001b[0;34m=\u001b[0m\u001b[0mcreate_graph\u001b[0m\u001b[0;34m,\u001b[0m\u001b[0;34m\u001b[0m\u001b[0;34m\u001b[0m\u001b[0m\n\u001b[1;32m    254\u001b[0m                 inputs=inputs)\n\u001b[0;32m--> 255\u001b[0;31m         \u001b[0mtorch\u001b[0m\u001b[0;34m.\u001b[0m\u001b[0mautograd\u001b[0m\u001b[0;34m.\u001b[0m\u001b[0mbackward\u001b[0m\u001b[0;34m(\u001b[0m\u001b[0mself\u001b[0m\u001b[0;34m,\u001b[0m \u001b[0mgradient\u001b[0m\u001b[0;34m,\u001b[0m \u001b[0mretain_graph\u001b[0m\u001b[0;34m,\u001b[0m \u001b[0mcreate_graph\u001b[0m\u001b[0;34m,\u001b[0m \u001b[0minputs\u001b[0m\u001b[0;34m=\u001b[0m\u001b[0minputs\u001b[0m\u001b[0;34m)\u001b[0m\u001b[0;34m\u001b[0m\u001b[0;34m\u001b[0m\u001b[0m\n\u001b[0m\u001b[1;32m    256\u001b[0m \u001b[0;34m\u001b[0m\u001b[0m\n\u001b[1;32m    257\u001b[0m     \u001b[0;32mdef\u001b[0m \u001b[0mregister_hook\u001b[0m\u001b[0;34m(\u001b[0m\u001b[0mself\u001b[0m\u001b[0;34m,\u001b[0m \u001b[0mhook\u001b[0m\u001b[0;34m)\u001b[0m\u001b[0;34m:\u001b[0m\u001b[0;34m\u001b[0m\u001b[0;34m\u001b[0m\u001b[0m\n",
            "\u001b[0;32m/usr/local/lib/python3.7/dist-packages/torch/autograd/__init__.py\u001b[0m in \u001b[0;36mbackward\u001b[0;34m(tensors, grad_tensors, retain_graph, create_graph, grad_variables, inputs)\u001b[0m\n\u001b[1;32m    147\u001b[0m     Variable._execution_engine.run_backward(\n\u001b[1;32m    148\u001b[0m         \u001b[0mtensors\u001b[0m\u001b[0;34m,\u001b[0m \u001b[0mgrad_tensors_\u001b[0m\u001b[0;34m,\u001b[0m \u001b[0mretain_graph\u001b[0m\u001b[0;34m,\u001b[0m \u001b[0mcreate_graph\u001b[0m\u001b[0;34m,\u001b[0m \u001b[0minputs\u001b[0m\u001b[0;34m,\u001b[0m\u001b[0;34m\u001b[0m\u001b[0;34m\u001b[0m\u001b[0m\n\u001b[0;32m--> 149\u001b[0;31m         allow_unreachable=True, accumulate_grad=True)  # allow_unreachable flag\n\u001b[0m\u001b[1;32m    150\u001b[0m \u001b[0;34m\u001b[0m\u001b[0m\n\u001b[1;32m    151\u001b[0m \u001b[0;34m\u001b[0m\u001b[0m\n",
            "\u001b[0;31mKeyboardInterrupt\u001b[0m: "
          ]
        }
      ],
      "source": [
        "x_data_plot=[]\n",
        "y_data_all_plot=[]\n",
        "y_data_1_plot=[]\n",
        "y_data_2_plot=[]\n",
        "\n",
        "# Set fixed random number seed\n",
        "torch.manual_seed(42)\n",
        "\n",
        "Epochs = 500\n",
        "for epoch in range(Epochs):\n",
        "    # Print epoch\n",
        "    print(f'Starting epoch {epoch}')\n",
        "    \n",
        "    # Set current and total loss value\n",
        "    current_loss = 0.0\n",
        "    total_loss = 0.0\n",
        "    total_loss1 = 0.0\n",
        "    total_loss2 = 0.0\n",
        "\n",
        "    for i, data in enumerate(train_loader,0):\n",
        "\n",
        "        x_batch, y_batch, delta_t = data\n",
        "\n",
        "        # Ground-truth temperature\n",
        "        true_temp = x_batch[:,4].detach().clone()\n",
        "\n",
        "        input0 = x_batch[0].detach().clone()\n",
        "\n",
        "        # Predicted temperature using model prediction and forward euler method\n",
        "        #pred_temp = true_temp.detach().clone().to(device)\n",
        "        #\n",
        "        pred_temp = torch.zeros(x_batch.shape[0])\n",
        "        pred_temp[0]=true_temp[0].detach().clone().to(device)\n",
        "\n",
        "        optimizer.zero_grad()\n",
        "        prediction = model(x_batch.to(device))\n",
        "     \n",
        "        for j in range(0, x_batch.shape[0] - 1):\n",
        "          input0[4] = torch.tensor(pred_temp[j]).detach().clone()\n",
        "          pred = model(input0.to(device))/normalize\n",
        "          pred_temp[j + 1] = pred_temp[j] + pred*delta_t[j]\n",
        " \n",
        "        loss1 = criterion(prediction,y_batch.to(device))\n",
        "        loss2 = criterion(pred_temp.to(device),true_temp.to(device))\n",
        "        loss = loss1+loss2\n",
        "\n",
        "        loss.backward()\n",
        "        optimizer.step()\n",
        "\n",
        "        # Print statistics\n",
        "        current_loss += loss.item()\n",
        "        total_loss += loss.item()\n",
        "        total_loss1 += loss1.item()\n",
        "        total_loss2 += loss2.item()\n",
        "\n",
        "        if i % 50 == 49:\n",
        "            print('Loss after mini-batch %5d: %.8f' %\n",
        "                  (i + 1, current_loss / 50))\n",
        "            current_loss = 0.0\n",
        "\n",
        "    print(\"Epoch \", epoch, \"Total Loss \", total_loss/(i+1))\n",
        "    print(\"Epoch \", epoch, \"Loss 1 \", total_loss1/(i+1))\n",
        "    print(\"Epoch \", epoch, \"Loss 2\", total_loss2/(i+1))\n",
        "\n",
        "    x_data_plot.append(epoch)\n",
        "    y_data_all_plot.append(total_loss/(i+1))\n",
        "    y_data_1_plot.append(total_loss1/(i+1))\n",
        "    y_data_2_plot.append(total_loss2/(i+1))\n",
        "\n",
        "# Make the plot of Total Loss vs epochs\n",
        "plt.plot(x_data_plot,y_data_all_plot)\n",
        "plt.xlabel('Epoch')\n",
        "plt.ylabel('Total Loss')\n",
        "plt.show()\n",
        "\n",
        "# Make the plot of the supervised loss\n",
        "plt.plot(x_data_plot,y_data_1_plot)\n",
        "plt.xlabel('Epoch')\n",
        "plt.ylabel('Loss1')\n",
        "plt.show()\n",
        "\n",
        "# Make the plot of time stability loss\n",
        "plt.plot(x_data_plot,y_data_2_plot)\n",
        "plt.xlabel('Epoch')\n",
        "plt.ylabel('Loss2')\n",
        "plt.show()"
      ]
    },
    {
      "cell_type": "code",
      "execution_count": null,
      "metadata": {
        "id": "loVO9lty_1mH"
      },
      "outputs": [],
      "source": [
        "# Plot of last 100 epochs\n",
        "plt.plot(x_data_plot[-200:],y_data_all_plot[-200:])\n",
        "plt.xlabel('Epoch')\n",
        "plt.ylabel('Loss')\n",
        "plt.show()\n",
        "\n",
        "# Plot of last 100 epochs\n",
        "plt.plot(x_data_plot[-200:],y_data_1_plot[-200:])\n",
        "plt.xlabel('Epoch')\n",
        "plt.ylabel('Loss 1')\n",
        "plt.show()\n",
        "\n",
        "# Plot of last 100 epochs\n",
        "plt.plot(x_data_plot[-200:],y_data_2_plot[-200:])\n",
        "plt.xlabel('Epoch')\n",
        "plt.ylabel('Loss 2')\n",
        "plt.show()"
      ]
    },
    {
      "cell_type": "code",
      "execution_count": null,
      "metadata": {
        "id": "-2CKaap0Aauy"
      },
      "outputs": [],
      "source": [
        "# Make a prediction\n",
        "pred = model(ds.x.float().to(device)) #GPU\n",
        "pred = pred.detach().cpu().numpy()/normalize\n",
        "\n",
        "# ground-truth\n",
        "df_y_tensor_np = ds.y.numpy()/normalize"
      ]
    },
    {
      "cell_type": "code",
      "execution_count": null,
      "metadata": {
        "id": "CP7kZ5jnjTTy"
      },
      "outputs": [],
      "source": [
        "# Some statistics on the model performance on all of dataset\n",
        "mae = np.sum(np.abs(pred- df_y_tensor_np).mean(axis=None))\n",
        "print('MAE:', mae)\n",
        "\n",
        "mse = ((df_y_tensor_np - pred)**2).mean(axis=None)\n",
        "print('MSE:', mse)\n",
        "\n",
        "rel_error = np.linalg.norm(pred - df_y_tensor_np) / np.linalg.norm(df_y_tensor_np)\n",
        "print('Relative error (%):', rel_error*100)\n"
      ]
    },
    {
      "cell_type": "code",
      "execution_count": null,
      "metadata": {
        "id": "FtDt8BXiDYrZ"
      },
      "outputs": [],
      "source": [
        "figure(figsize=(10, 8), dpi= 360)\n",
        "\n",
        "plt.plot(pred, '--')\n",
        "plt.plot(df_y_tensor_np, '-')\n",
        "plt.legend(['Prediction', 'ground-truth'])\n",
        "plt.xlabel('t-idx')\n",
        "plt.ylabel('Delta Temperature/delta time')\n",
        "plt.show()\n",
        "\n"
      ]
    },
    {
      "cell_type": "code",
      "execution_count": null,
      "metadata": {
        "id": "-3ZQU5JyDrEq"
      },
      "outputs": [],
      "source": [
        "figure(figsize=(10, 8), dpi= 360)\n",
        "\n",
        "#time\n",
        "t=ds.t\n",
        "\n",
        "plt.plot(t,pred, '--')\n",
        "plt.plot(t,df_y_tensor_np, '-')\n",
        "plt.legend(['Prediction', 'ground-truth'])\n",
        "plt.xlabel('time / seconds')\n",
        "plt.ylabel('Delta Temperature/delta time')\n",
        "plt.show()"
      ]
    },
    {
      "cell_type": "code",
      "execution_count": null,
      "metadata": {
        "id": "H_y38GoxFDeJ"
      },
      "outputs": [],
      "source": [
        "# Import a slice of the datase (based on drive-id) for further analysis\n",
        "ds = TeslaDatasetDiff(device = device, ID = 30)"
      ]
    },
    {
      "cell_type": "code",
      "execution_count": null,
      "metadata": {
        "id": "08d4xtKcGONJ"
      },
      "outputs": [],
      "source": [
        "#Forward Euler method with fixed initial conditions but with updated \n",
        "#Temperature from the prediction of the model at previous iteration\n",
        "#with generated temporally equidistant time steps\n",
        "\n",
        "# ground-truth time\n",
        "t=ds.t\n",
        "max_t = t.max()\n",
        "\n",
        "# Ground-truth temperature\n",
        "true_temp = ds.x[:,4].numpy()\n",
        "\n",
        "# Predicted temperature using model prediction and forward euler method\n",
        "pred_temp = np.zeros((ds.x.shape[0]))\n",
        "pred_temp = true_temp.copy()\n",
        "\n",
        "# Fixed initial conditions for all environmental conditions\n",
        "input = ds.x[0].detach().clone()\n",
        "\n",
        "# temporally equdistant time steps\n",
        "tt = np.linspace(0,max_t,ds.x.shape[0])\n",
        "step_size=tt[2]-tt[1]\n",
        "\n",
        "#ODE\n",
        "for i in range(0, ds.x.shape[0] - 1):\n",
        "      input[4] = torch.tensor(pred_temp[i]).detach().clone()\n",
        "      pred = model(input.to(device))\n",
        "      pred = pred.detach().cpu().numpy()/normalize\n",
        "      pred_temp[i + 1] = pred_temp[i] + pred*step_size\n",
        "\n",
        "\n",
        "#MAE\n",
        "mae = np.sum(np.abs(pred_temp- true_temp).mean(axis=None))\n",
        "print('MAE:', mae)\n",
        "\n",
        "#MSE\n",
        "mse = ((true_temp - pred_temp)**2).mean(axis=None)\n",
        "print('MSE:', mse)\n",
        "\n",
        "#Relative error\n",
        "rel_error = np.linalg.norm(pred_temp - true_temp) / np.linalg.norm(true_temp)\n",
        "print('Relative error (%):', rel_error*100)\n",
        "\n",
        "plt.figure(figsize = (12, 8))\n",
        "plt.plot(tt, pred_temp, '-', label='ODE approximation')\n",
        "plt.plot(t, true_temp, '--', label='Exact')\n",
        "plt.title('Approximate and True Solution (temporally equidistant step size)')\n",
        "plt.xlabel('t (seconds)')\n",
        "plt.ylabel('Temperature')\n",
        "plt.grid()\n",
        "plt.legend(loc='lower right')\n",
        "plt.show()"
      ]
    },
    {
      "cell_type": "code",
      "execution_count": null,
      "metadata": {
        "id": "Kx9KVaQyGSYb"
      },
      "outputs": [],
      "source": [
        "#Forward Euler method with fixed initial conditions but with updated \n",
        "#Temperature from the prediction of the model at previous iteration\n",
        "#with true step sizes\n",
        "\n",
        "# ground-truth time\n",
        "t=ds.t\n",
        "max_t = t.max()\n",
        "t=t.numpy()\n",
        "\n",
        "# Ground-truth temperature\n",
        "true_temp = ds.x[:,4].numpy()\n",
        "\n",
        "# Predicted temperature using model prediction and forward euler method\n",
        "#pred_temp = np.zeros((ds.x.shape[0]))\n",
        "pred_temp[0] = true_temp[0].copy()\n",
        "\n",
        "# Fixed initial conditions for all environmental conditions\n",
        "input = ds.x[0].detach().clone()\n",
        "\n",
        "# temporally equdistant time steps\n",
        "tt = np.linspace(0,max_t,ds.x.shape[0])\n",
        "step_size=tt[2]-tt[1]\n",
        "\n",
        "# ODE\n",
        "for i in range(0, ds.x.shape[0] - 1):\n",
        "      #input = df_xx_tensor[0]\n",
        "      input[4] = torch.tensor(pred_temp[i]).detach().clone()\n",
        "      pred = model(input.to(device))\n",
        "      pred = pred.detach().cpu().numpy()/normalize\n",
        "      pred_temp[i + 1] = pred_temp[i] + pred*(t[i+1]-t[i])\n",
        "      \n",
        "#MAE \n",
        "mae = np.sum(np.abs(pred_temp- true_temp).mean(axis=None))\n",
        "print('MAE:', mae)\n",
        "\n",
        "#MSE\n",
        "mse = ((true_temp - pred_temp)**2).mean(axis=None)\n",
        "print('MSE:', mse)\n",
        "\n",
        "# Relative error\n",
        "rel_error = np.linalg.norm(pred_temp - true_temp) / np.linalg.norm(true_temp)\n",
        "print('Relative error (%):', rel_error*100)\n",
        "\n",
        "plt.figure(figsize = (12, 8))\n",
        "plt.plot(t, pred_temp, '-', label='ODE approximation')\n",
        "plt.plot(t, true_temp, '--', label='Exact')\n",
        "plt.title('Approximate and True Solution (true step size)')\n",
        "plt.xlabel('t (seconds)')\n",
        "plt.ylabel('Temperature')\n",
        "plt.grid()\n",
        "plt.legend(loc='lower right')\n",
        "plt.show()\n"
      ]
    },
    {
      "cell_type": "code",
      "execution_count": null,
      "metadata": {
        "id": "VFmgP4Qz6Gll"
      },
      "outputs": [],
      "source": [
        "#Forward Euler method with updated environmental conditions from the dataset at each iteration\n",
        "#But with updated temperature from the prediction of the model at previous iteration\n",
        "#with true step sizes\n",
        "\n",
        "# ground-truth time\n",
        "t=ds.t\n",
        "max_t = t.max()\n",
        "t=t.numpy()\n",
        "\n",
        "# Ground-truth temperature\n",
        "true_temp = ds.x[:,4].numpy()\n",
        "\n",
        "# Predicted temperature using model prediction and forward euler method\n",
        "pred_temp = np.zeros((ds.x.shape[0]))\n",
        "pred_temp[0] = true_temp[0].copy()\n",
        "\n",
        "\n",
        "for i in range(0, ds.x.shape[0] - 1):\n",
        "      input = ds.x[i].detach().clone()\n",
        "      input[4] = torch.tensor(pred_temp[i]).detach().clone()\n",
        "      pred = model(input.to(device))\n",
        "      pred = pred.detach().cpu().numpy()/normalize\n",
        "      pred_temp[i + 1] = pred_temp[i] + pred*(t[i+1]-t[i])\n",
        "\n",
        "#MAE \n",
        "mae = np.sum(np.abs(pred_temp- true_temp).mean(axis=None))\n",
        "print('MAE:', mae)\n",
        "\n",
        "#MSE\n",
        "mse = ((true_temp - pred_temp)**2).mean(axis=None)\n",
        "print('MSE:', mse)\n",
        "\n",
        "# Relative error\n",
        "rel_error = np.linalg.norm(pred_temp - true_temp) / np.linalg.norm(true_temp)\n",
        "print('Relative error (%):', rel_error*100)\n",
        "\n",
        "plt.figure(figsize = (12, 8))\n",
        "plt.plot(t, pred_temp, '-', label='ODE approximation')\n",
        "plt.plot(t, true_temp, '--', label='Exact')\n",
        "plt.title('Approximate and True Solution (true step size)')\n",
        "plt.xlabel('t (seconds)')\n",
        "plt.ylabel('Temperature')\n",
        "plt.grid()\n",
        "plt.legend(loc='lower right')\n",
        "plt.show()\n"
      ]
    },
    {
      "cell_type": "code",
      "execution_count": null,
      "metadata": {
        "id": "a2ppJIkXGVM7"
      },
      "outputs": [],
      "source": [
        "plt.plot(tt, '-', label='my step size')\n",
        "plt.plot(t, '--', label='true step-size')\n",
        "plt.legend(loc='lower right')"
      ]
    },
    {
      "cell_type": "code",
      "execution_count": null,
      "metadata": {
        "id": "0yuf54BmGW-P"
      },
      "outputs": [],
      "source": [
        "plt.plot(np.diff(t.reshape(-1)))\n",
        "plt.plot(np.diff(tt.reshape(-1)))"
      ]
    },
    {
      "cell_type": "code",
      "execution_count": null,
      "metadata": {
        "id": "aK2F9VaIkRUj"
      },
      "outputs": [],
      "source": [
        "# Checking if vectorised version of the loss works\n",
        "\n",
        "true_temp = ds.x[:,4].numpy()\n",
        "pred_temp = true_temp.copy()\n",
        "\n",
        "prediction = model(ds.x.to(device)) \n",
        "\n",
        "deltaTemp = prediction.reshape(-1)*ds.dt.reshape(-1)/normalize\n",
        "\n",
        "temp0 = pred_temp + deltaTemp.detach().cpu().numpy()\n",
        "pred_temp[1:] = temp0[:-1]\n",
        "\n",
        "#MAE\n",
        "mae = np.sum(np.abs(pred_temp- true_temp).mean(axis=None))\n",
        "print('MAE:', mae)\n",
        "\n",
        "#MSE\n",
        "mse = ((true_temp - pred_temp)**2).mean(axis=None)\n",
        "print('MSE:', mse)\n",
        "\n",
        "#Relative error\n",
        "rel_error = np.linalg.norm(pred_temp - true_temp) / np.linalg.norm(true_temp)\n",
        "print('Relative error (%):', rel_error*100)\n",
        "\n",
        "plt.figure(figsize = (12, 8))\n",
        "plt.plot(t, pred_temp, '-', label='ODE approximation')\n",
        "plt.plot(t, true_temp, '--', label='Exact')\n",
        "plt.title('Approximate and True Solution (true step size)')\n",
        "plt.xlabel('t (seconds)')\n",
        "plt.ylabel('Temperature')\n",
        "plt.grid()\n",
        "plt.legend(loc='lower right')\n",
        "plt.show()\n",
        "\n"
      ]
    }
  ],
  "metadata": {
    "colab": {
      "collapsed_sections": [],
      "name": "For loop of Vectorised time stability of 1D_Heat_Eqn_Diff_Operator v2.ipynb",
      "provenance": []
    },
    "kernelspec": {
      "display_name": "Python 3",
      "name": "python3"
    },
    "language_info": {
      "name": "python"
    }
  },
  "nbformat": 4,
  "nbformat_minor": 0
}
